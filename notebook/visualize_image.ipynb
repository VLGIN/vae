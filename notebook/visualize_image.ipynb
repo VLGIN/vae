{
 "cells": [
  {
   "cell_type": "code",
   "execution_count": 5,
   "id": "fccf655c-ca8c-4aa1-b53f-8f653684d940",
   "metadata": {},
   "outputs": [],
   "source": [
    "from PIL import Image\n",
    "import pickle\n",
    "import numpy as np\n",
    "import os"
   ]
  },
  {
   "cell_type": "code",
   "execution_count": 2,
   "id": "adce4013-92e4-469f-ac37-c9b233a16b4b",
   "metadata": {},
   "outputs": [],
   "source": [
    "from matplotlib import pyplot as plt"
   ]
  },
  {
   "cell_type": "code",
   "execution_count": 6,
   "id": "50fa36e9-e810-4122-97d9-69daa1af7b3a",
   "metadata": {},
   "outputs": [],
   "source": [
    "def read_data_from_disk(path):\n",
    "    files = os.listdir(path)\n",
    "    data = []\n",
    "\n",
    "    for file in files:\n",
    "        file_path = os.path.join(path, file)\n",
    "        with open(file_path, \"rb\") as f:\n",
    "            data.append(pickle.load(f, encoding=\"bytes\")[b'data'].astype(float))\n",
    "    \n",
    "    return np.concatenate(data, axis=0)"
   ]
  },
  {
   "cell_type": "code",
   "execution_count": 7,
   "id": "a39a4e50-e3d9-495b-b704-01d590ed6f76",
   "metadata": {},
   "outputs": [],
   "source": [
    "data = read_data_from_disk(\"../cifar-10/\")"
   ]
  },
  {
   "cell_type": "code",
   "execution_count": 9,
   "id": "132a531e-de1b-49b5-96ce-ed71b7ce0a90",
   "metadata": {},
   "outputs": [
    {
     "data": {
      "text/plain": [
       "(50000, 3072)"
      ]
     },
     "execution_count": 9,
     "metadata": {},
     "output_type": "execute_result"
    }
   ],
   "source": [
    "data.shape"
   ]
  },
  {
   "cell_type": "code",
   "execution_count": 10,
   "id": "f39321c9-ecea-431b-934d-3d0ba3c9550d",
   "metadata": {},
   "outputs": [
    {
     "data": {
      "text/plain": [
       "array([ 59.,  43.,  50., ..., 140.,  84.,  72.])"
      ]
     },
     "execution_count": 10,
     "metadata": {},
     "output_type": "execute_result"
    }
   ],
   "source": [
    "data[0]"
   ]
  },
  {
   "cell_type": "code",
   "execution_count": 14,
   "id": "fe985dcb-3431-47d3-b250-b9f2b0bec370",
   "metadata": {},
   "outputs": [],
   "source": [
    "test = data[0].reshape((3,32,32))"
   ]
  },
  {
   "cell_type": "code",
   "execution_count": 15,
   "id": "5ab8259f-3373-4363-bd66-fd44009af067",
   "metadata": {},
   "outputs": [
    {
     "data": {
      "text/plain": [
       "array([[ 59.,  43.,  50., ..., 158., 152., 148.],\n",
       "       [ 16.,   0.,  18., ..., 123., 119., 122.],\n",
       "       [ 25.,  16.,  49., ..., 118., 120., 109.],\n",
       "       ...,\n",
       "       [208., 201., 198., ..., 160.,  56.,  53.],\n",
       "       [180., 173., 186., ..., 184.,  97.,  83.],\n",
       "       [177., 168., 179., ..., 216., 151., 123.]])"
      ]
     },
     "execution_count": 15,
     "metadata": {},
     "output_type": "execute_result"
    }
   ],
   "source": []
  },
  {
   "cell_type": "code",
   "execution_count": 16,
   "id": "95212ba0-db35-4c68-bd6c-64f1bdcb22cf",
   "metadata": {},
   "outputs": [
    {
     "data": {
      "text/plain": [
       "array([[ 63.,  45.,  43., ..., 108., 102., 103.],\n",
       "       [ 20.,   0.,   0., ...,  55.,  50.,  57.],\n",
       "       [ 21.,   0.,   8., ...,  50.,  50.,  42.],\n",
       "       ...,\n",
       "       [ 96.,  34.,  26., ...,  70.,   7.,  20.],\n",
       "       [ 96.,  42.,  30., ...,  94.,  34.,  34.],\n",
       "       [116.,  94.,  87., ..., 140.,  84.,  72.]])"
      ]
     },
     "execution_count": 16,
     "metadata": {},
     "output_type": "execute_result"
    }
   ],
   "source": [
    "test[-1]"
   ]
  },
  {
   "cell_type": "code",
   "execution_count": 23,
   "id": "032c0ed7-c1e0-4eda-9a80-5314c4a89f54",
   "metadata": {},
   "outputs": [
    {
     "data": {
      "text/plain": [
       "<matplotlib.image.AxesImage at 0x7fd13a35e9a0>"
      ]
     },
     "execution_count": 23,
     "metadata": {},
     "output_type": "execute_result"
    },
    {
     "data": {
      "image/png": "[encoded data removed]",
      "text/plain": [
       "<Figure size 432x288 with 1 Axes>"
      ]
     },
     "metadata": {
      "needs_background": "light"
     },
     "output_type": "display_data"
    }
   ],
   "source": [
    "plt.imshow(test[2])"
   ]
  },
  {
   "cell_type": "code",
   "execution_count": 26,
   "id": "59f13c0d-3379-4c1b-9206-277ae7117ce6",
   "metadata": {},
   "outputs": [],
   "source": [
    "import matplotlib.image as mpimg"
   ]
  },
  {
   "cell_type": "code",
   "execution_count": 29,
   "id": "e43ff4c0-82c0-48e0-af9b-e0d5c258e596",
   "metadata": {},
   "outputs": [
    {
     "data": {
      "text/plain": [
       "(32, 32, 3)"
      ]
     },
     "execution_count": 29,
     "metadata": {},
     "output_type": "execute_result"
    }
   ],
   "source": [
    "mpimg.imread(\"../test.png\").shape"
   ]
  },
  {
   "cell_type": "code",
   "execution_count": 31,
   "id": "9bc86ad9-bf04-4646-8d67-809d30bdcd41",
   "metadata": {},
   "outputs": [],
   "source": [
    "test1 = np.zeros(shape=(32,32,3))"
   ]
  },
  {
   "cell_type": "code",
   "execution_count": 34,
   "id": "0c3fa4a7-97be-4247-88fc-f899f3dd2a94",
   "metadata": {},
   "outputs": [],
   "source": [
    "for i in range(32):\n",
    "    for j in range(32):\n",
    "        test1[i, j] = test[:, i, j]"
   ]
  },
  {
   "cell_type": "code",
   "execution_count": 37,
   "id": "8ba78d34-407a-4012-a613-08e1c5874899",
   "metadata": {},
   "outputs": [
    {
     "data": {
      "text/plain": [
       "<matplotlib.image.AxesImage at 0x7fd1180a0f10>"
      ]
     },
     "execution_count": 37,
     "metadata": {},
     "output_type": "execute_result"
    },
    {
     "data": {
      "image/png": "[encoded data removed]",
      "text/plain": [
       "<Figure size 432x288 with 1 Axes>"
      ]
     },
     "metadata": {
      "needs_background": "light"
     },
     "output_type": "display_data"
    }
   ],
   "source": [
    "plt.imshow(test1.astype(int))"
   ]
  },
  {
   "cell_type": "code",
   "execution_count": 38,
   "id": "ec0c5071-e442-4d16-a2aa-26eed86bf8d8",
   "metadata": {},
   "outputs": [],
   "source": [
    "test2 = test.reshape((32,32,3))"
   ]
  },
  {
   "cell_type": "code",
   "execution_count": 39,
   "id": "0b2a4514-e70e-4050-b908-17d86f4d061d",
   "metadata": {},
   "outputs": [
    {
     "data": {
      "text/plain": [
       "<matplotlib.image.AxesImage at 0x7fd13a4a00a0>"
      ]
     },
     "execution_count": 39,
     "metadata": {},
     "output_type": "execute_result"
    },
    {
     "data": {
      "image/png": "[encoded data removed]",
      "text/plain": [
       "<Figure size 432x288 with 1 Axes>"
      ]
     },
     "metadata": {
      "needs_background": "light"
     },
     "output_type": "display_data"
    }
   ],
   "source": [
    "plt.imshow(test2.astype(int))"
   ]
  },
  {
   "cell_type": "code",
   "execution_count": null,
   "id": "ec7593d7-230d-4b14-96d2-205df606112c",
   "metadata": {},
   "outputs": [],
   "source": []
  }
 ],
 "metadata": {
  "kernelspec": {
   "display_name": "Python 3 (ipykernel)",
   "language": "python",
   "name": "python3"
  },
  "language_info": {
   "codemirror_mode": {
    "name": "ipython",
    "version": 3
   },
   "file_extension": ".py",
   "mimetype": "text/x-python",
   "name": "python",
   "nbconvert_exporter": "python",
   "pygments_lexer": "ipython3",
   "version": "3.9.7"
  }
 },
 "nbformat": 4,
 "nbformat_minor": 5
}

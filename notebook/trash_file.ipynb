{
 "cells": [
  {
   "cell_type": "code",
   "execution_count": 2,
   "id": "d50320d6-022d-4b24-b156-2f5991bd0834",
   "metadata": {},
   "outputs": [],
   "source": [
    "import pickle"
   ]
  },
  {
   "cell_type": "code",
   "execution_count": 3,
   "id": "a42e3931-7bc4-4efb-9a0b-71f4d5c45618",
   "metadata": {},
   "outputs": [],
   "source": [
    "def unpickle(file):\n",
    "    with open(file, \"rb\") as f:\n",
    "        data = pickle.load(f, encoding=\"bytes\")\n",
    "    return data"
   ]
  },
  {
   "cell_type": "code",
   "execution_count": 4,
   "id": "ea9c27dd-a9bd-4245-b09f-c585ecc09354",
   "metadata": {},
   "outputs": [],
   "source": [
    "dict_data = unpickle(\"/Users/leo/Projects/vae/data/cifar-10-batches-py/data_batch_1\")"
   ]
  },
  {
   "cell_type": "code",
   "execution_count": 6,
   "id": "d910677e-117a-48da-a56b-02dd7229e00e",
   "metadata": {},
   "outputs": [
    {
     "data": {
      "text/plain": [
       "[b'batch_label', b'labels', b'data', b'filenames']"
      ]
     },
     "execution_count": 6,
     "metadata": {},
     "output_type": "execute_result"
    }
   ],
   "source": [
    "list(dict_data)"
   ]
  },
  {
   "cell_type": "code",
   "execution_count": 10,
   "id": "014eb427-f81d-434b-82fe-f14f34e1ddb8",
   "metadata": {},
   "outputs": [
    {
     "data": {
      "text/plain": [
       "10000"
      ]
     },
     "execution_count": 10,
     "metadata": {},
     "output_type": "execute_result"
    }
   ],
   "source": [
    "len(dict_data[b\"filenames\"])"
   ]
  },
  {
   "cell_type": "code",
   "execution_count": 13,
   "id": "f1c8f996-270f-4901-b0ae-c4de0697fdb4",
   "metadata": {},
   "outputs": [
    {
     "data": {
      "text/plain": [
       "(10000, 3072)"
      ]
     },
     "execution_count": 13,
     "metadata": {},
     "output_type": "execute_result"
    }
   ],
   "source": [
    "dict_data[b\"data\"].shape"
   ]
  },
  {
   "cell_type": "code",
   "execution_count": null,
   "id": "84152d3c-9d01-4ed5-ad4b-259114a34776",
   "metadata": {},
   "outputs": [],
   "source": []
  }
 ],
 "metadata": {
  "kernelspec": {
   "display_name": "Python 3 (ipykernel)",
   "language": "python",
   "name": "python3"
  },
  "language_info": {
   "codemirror_mode": {
    "name": "ipython",
    "version": 3
   },
   "file_extension": ".py",
   "mimetype": "text/x-python",
   "name": "python",
   "nbconvert_exporter": "python",
   "pygments_lexer": "ipython3",
   "version": "3.9.7"
  }
 },
 "nbformat": 4,
 "nbformat_minor": 5
}
